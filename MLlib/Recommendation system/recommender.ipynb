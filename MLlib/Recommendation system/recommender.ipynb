{
  "nbformat": 4,
  "nbformat_minor": 0,
  "metadata": {
    "colab": {
      "name": "recommender",
      "provenance": [],
      "authorship_tag": "ABX9TyPACI0KpmZoogUNt95VmwXd",
      "include_colab_link": true
    },
    "kernelspec": {
      "name": "python3",
      "display_name": "Python 3"
    },
    "language_info": {
      "name": "python"
    }
  },
  "cells": [
    {
      "cell_type": "markdown",
      "metadata": {
        "id": "view-in-github",
        "colab_type": "text"
      },
      "source": [
        "<a href=\"https://colab.research.google.com/github/sarathsoundar/Pyspark_MLlib_Learnings/blob/main/MLlib/Recommendation%20system/recommender.ipynb\" target=\"_parent\"><img src=\"https://colab.research.google.com/assets/colab-badge.svg\" alt=\"Open In Colab\"/></a>"
      ]
    },
    {
      "cell_type": "code",
      "metadata": {
        "colab": {
          "base_uri": "https://localhost:8080/"
        },
        "id": "M14xUxToUhCB",
        "outputId": "da2c9799-4ed8-4b0b-a39a-c742f4894042"
      },
      "source": [
        "!pip install pyspark\n"
      ],
      "execution_count": 1,
      "outputs": [
        {
          "output_type": "stream",
          "name": "stdout",
          "text": [
            "Collecting pyspark\n",
            "  Downloading pyspark-3.2.1.tar.gz (281.4 MB)\n",
            "\u001b[K     |████████████████████████████████| 281.4 MB 35 kB/s \n",
            "\u001b[?25hCollecting py4j==0.10.9.3\n",
            "  Downloading py4j-0.10.9.3-py2.py3-none-any.whl (198 kB)\n",
            "\u001b[K     |████████████████████████████████| 198 kB 59.7 MB/s \n",
            "\u001b[?25hBuilding wheels for collected packages: pyspark\n",
            "  Building wheel for pyspark (setup.py) ... \u001b[?25l\u001b[?25hdone\n",
            "  Created wheel for pyspark: filename=pyspark-3.2.1-py2.py3-none-any.whl size=281853642 sha256=903bd14b9b36c07d2fbce62ee6c44a639226011f48e48492d2b0710515e2975e\n",
            "  Stored in directory: /root/.cache/pip/wheels/9f/f5/07/7cd8017084dce4e93e84e92efd1e1d5334db05f2e83bcef74f\n",
            "Successfully built pyspark\n",
            "Installing collected packages: py4j, pyspark\n",
            "Successfully installed py4j-0.10.9.3 pyspark-3.2.1\n"
          ]
        }
      ]
    },
    {
      "cell_type": "code",
      "metadata": {
        "id": "9NSF2J7FU3Vp"
      },
      "source": [
        "from pyspark.sql import SparkSession\n",
        "\n"
      ],
      "execution_count": 2,
      "outputs": []
    },
    {
      "cell_type": "code",
      "metadata": {
        "id": "wGMGyWDbVJEw"
      },
      "source": [
        "spark = SparkSession.builder.appName('recommender').getOrCreate()"
      ],
      "execution_count": 3,
      "outputs": []
    },
    {
      "cell_type": "code",
      "metadata": {
        "id": "AKwpgvR0VLJR"
      },
      "source": [
        "from pyspark.ml.evaluation import RegressionEvaluator\n",
        "from pyspark.ml.recommendation import ALS"
      ],
      "execution_count": 4,
      "outputs": []
    },
    {
      "cell_type": "code",
      "metadata": {
        "id": "CarkWFUoVPWL"
      },
      "source": [
        "rating = spark.read.csv('/content/movielens_ratings.csv',inferSchema=True,header=True)"
      ],
      "execution_count": 5,
      "outputs": []
    },
    {
      "cell_type": "code",
      "metadata": {
        "colab": {
          "base_uri": "https://localhost:8080/"
        },
        "id": "CPAUAMDezdgO",
        "outputId": "2115c226-cc0d-4ff5-920d-3d2105fc939c"
      },
      "source": [
        "rating.head()"
      ],
      "execution_count": 6,
      "outputs": [
        {
          "output_type": "execute_result",
          "data": {
            "text/plain": [
              "Row(movieId=2, rating=3.0, userId=0)"
            ]
          },
          "metadata": {},
          "execution_count": 6
        }
      ]
    },
    {
      "cell_type": "code",
      "metadata": {
        "colab": {
          "base_uri": "https://localhost:8080/"
        },
        "id": "KR9xBPF3Vbi5",
        "outputId": "d4c7382c-b2ab-453a-d4e5-9d8d85c476e6"
      },
      "source": [
        "rating.describe().show()"
      ],
      "execution_count": 7,
      "outputs": [
        {
          "output_type": "stream",
          "name": "stdout",
          "text": [
            "+-------+------------------+------------------+------------------+\n",
            "|summary|           movieId|            rating|            userId|\n",
            "+-------+------------------+------------------+------------------+\n",
            "|  count|              1501|              1501|              1501|\n",
            "|   mean| 49.40572951365756|1.7741505662891406|14.383744170552964|\n",
            "| stddev|28.937034065088994| 1.187276166124803| 8.591040424293272|\n",
            "|    min|                 0|               1.0|                 0|\n",
            "|    max|                99|               5.0|                29|\n",
            "+-------+------------------+------------------+------------------+\n",
            "\n"
          ]
        }
      ]
    },
    {
      "cell_type": "code",
      "metadata": {
        "id": "bfWB2Uu2ViIh"
      },
      "source": [
        "(training, test) = rating.randomSplit([0.7, 0.2])"
      ],
      "execution_count": 8,
      "outputs": []
    },
    {
      "cell_type": "code",
      "metadata": {
        "id": "fSZ4UiOyV6IF"
      },
      "source": [
        "als = ALS(maxIter=5, regParam=0.01, rank=4, userCol=\"userId\", itemCol=\"movieId\", ratingCol=\"rating\")\n",
        "model = als.fit(training)"
      ],
      "execution_count": 9,
      "outputs": []
    },
    {
      "cell_type": "code",
      "metadata": {
        "id": "8qQ6VFawV_KH"
      },
      "source": [
        "predictions = model.transform(test)\n"
      ],
      "execution_count": 10,
      "outputs": []
    },
    {
      "cell_type": "code",
      "metadata": {
        "colab": {
          "base_uri": "https://localhost:8080/"
        },
        "id": "XHMYGPTRWFyJ",
        "outputId": "02c241b3-6ca0-4737-834f-7ac00e35097d"
      },
      "source": [
        "predictions.show()"
      ],
      "execution_count": 11,
      "outputs": [
        {
          "output_type": "stream",
          "name": "stdout",
          "text": [
            "+-------+------+------+-----------+\n",
            "|movieId|rating|userId| prediction|\n",
            "+-------+------+------+-----------+\n",
            "|      1|   1.0|    26|   2.629873|\n",
            "|      6|   1.0|     4|  1.2317702|\n",
            "|      6|   1.0|     9|  1.3570485|\n",
            "|      6|   1.0|    14|  1.4162165|\n",
            "|      6|   3.0|    26|   1.827172|\n",
            "|      3|   1.0|     7|   1.287663|\n",
            "|      3|   3.0|    14|  1.3901248|\n",
            "|      5|   1.0|     8|  1.2225988|\n",
            "|      5|   3.0|    16|  1.6651602|\n",
            "|      5|   2.0|    26|  2.6781342|\n",
            "|      4|   1.0|    14|  1.7204988|\n",
            "|      4|   1.0|    19|  1.7167073|\n",
            "|      4|   1.0|    24|  1.6420472|\n",
            "|      2|   1.0|     3| -1.3349912|\n",
            "|      2|   3.0|     9|  5.3538733|\n",
            "|      2|   1.0|    12|   3.160547|\n",
            "|      2|   2.0|    20|   1.936577|\n",
            "|      2|   1.0|    23|   6.291157|\n",
            "|      0|   1.0|     3|-0.58655834|\n",
            "|      0|   1.0|    11| 0.50662184|\n",
            "+-------+------+------+-----------+\n",
            "only showing top 20 rows\n",
            "\n"
          ]
        }
      ]
    },
    {
      "cell_type": "code",
      "metadata": {
        "id": "ssG27VKmWUq_"
      },
      "source": [
        "single_user = test.filter(test['userId']==11).select(['movieId','userId'])"
      ],
      "execution_count": 12,
      "outputs": []
    },
    {
      "cell_type": "code",
      "metadata": {
        "colab": {
          "base_uri": "https://localhost:8080/"
        },
        "id": "eur10dZJWaoQ",
        "outputId": "89a581a0-d5d3-4f7f-c5fe-1a53a271bba8"
      },
      "source": [
        "single_user.show()"
      ],
      "execution_count": 13,
      "outputs": [
        {
          "output_type": "stream",
          "name": "stdout",
          "text": [
            "+-------+------+\n",
            "|movieId|userId|\n",
            "+-------+------+\n",
            "|      0|    11|\n",
            "|     23|    11|\n",
            "|     25|    11|\n",
            "|     37|    11|\n",
            "|     38|    11|\n",
            "|     43|    11|\n",
            "|     48|    11|\n",
            "|     59|    11|\n",
            "|     62|    11|\n",
            "|     67|    11|\n",
            "|     72|    11|\n",
            "|     81|    11|\n",
            "|     86|    11|\n",
            "+-------+------+\n",
            "\n"
          ]
        }
      ]
    },
    {
      "cell_type": "code",
      "metadata": {
        "colab": {
          "base_uri": "https://localhost:8080/"
        },
        "id": "OzZXOA-fWbPg",
        "outputId": "2fdf7c39-9dc6-4c61-8419-b673aca591e9"
      },
      "source": [
        "reccomendations = model.transform(single_user)\n",
        "reccomendations.orderBy('prediction',ascending=False).show()\n"
      ],
      "execution_count": 14,
      "outputs": [
        {
          "output_type": "stream",
          "name": "stdout",
          "text": [
            "+-------+------+-----------+\n",
            "|movieId|userId| prediction|\n",
            "+-------+------+-----------+\n",
            "|     23|    11|   4.618124|\n",
            "|     38|    11|   4.468296|\n",
            "|     59|    11|   3.770985|\n",
            "|     81|    11|  1.6362996|\n",
            "|     62|    11|  1.5749514|\n",
            "|     48|    11|  1.5491005|\n",
            "|     86|    11| 0.99385893|\n",
            "|      0|    11| 0.50662184|\n",
            "|     37|    11|-0.65914345|\n",
            "|     67|    11| -1.8406184|\n",
            "|     72|    11| -1.9054819|\n",
            "|     25|    11| -2.7779393|\n",
            "|     43|    11| -4.0390477|\n",
            "+-------+------+-----------+\n",
            "\n"
          ]
        }
      ]
    }
  ]
}